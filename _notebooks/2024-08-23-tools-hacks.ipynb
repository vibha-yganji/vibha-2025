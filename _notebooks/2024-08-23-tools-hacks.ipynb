{
 "cells": [
  {
   "cell_type": "markdown",
   "metadata": {},
   "source": [
    "---\n",
    "layout: post\n",
    "title: Installation Hacks\n",
    "---"
   ]
  },
  {
   "cell_type": "markdown",
   "metadata": {},
   "source": [
    "### Shell Commmands\n",
    "\n",
    "- **brew:**\n",
    "    - Purpose: brew is a package manager for macOS (and Linux) that simplifies the process of installing, updating, and managing software packages. It allows users to install a wide variety of applications and utilities from the command line.\n",
    "- **git:** \n",
    "    - Purpose: git is a version control system that helps track changes to files and collaborate on projects, especially in software development. It allows you to manage code repositories, commit changes, branch out for different features or fixes, and merge them back together.\n",
    "- **cd:**\n",
    "    - Purpose: Purpose: cd stands for \"change directory.\" It is used to navigate between directories in the shell. When you type cd followed by a directory name, you move into that directory, making it your current working directory.\n",
    "- **ls:**\n",
    "    - Purpose: Purpose: ls is a command that lists the contents of a directory. When you run ls, it displays the files and folders in the current directory. It can also show additional details like file permissions, sizes, and modification dates when used with options like -l (long format).\n"
   ]
  },
  {
   "cell_type": "markdown",
   "metadata": {},
   "source": [
    "## Version Control "
   ]
  }
 ],
 "metadata": {
  "language_info": {
   "name": "python"
  }
 },
 "nbformat": 4,
 "nbformat_minor": 2
}
